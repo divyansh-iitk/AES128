{
 "cells": [
  {
   "cell_type": "markdown",
   "id": "faebf01e",
   "metadata": {},
   "source": [
    "## Followings are some default parameters used by AES-128"
   ]
  },
  {
   "cell_type": "markdown",
   "id": "89981808",
   "metadata": {},
   "source": [
    "---------------------------------------------------------"
   ]
  },
  {
   "cell_type": "code",
   "execution_count": 91,
   "id": "d0d5aa77",
   "metadata": {
    "id": "d0d5aa77"
   },
   "outputs": [],
   "source": [
    "SBOX = [\n",
    "    [0x63, 0x7C, 0x77, 0x7B, 0xF2, 0x6B, 0x6F, 0xC5, 0x30, 0x01, 0x67, 0x2B, 0xFE, 0xD7, 0xAB, 0x76],\n",
    "    [0xCA, 0x82, 0xC9, 0x7D, 0xFA, 0x59, 0x47, 0xF0, 0xAD, 0xD4, 0xA2, 0xAF, 0x9C, 0xA4, 0x72, 0xC0],\n",
    "    [0xB7, 0xFD, 0x93, 0x26, 0x36, 0x3F, 0xF7, 0xCC, 0x34, 0xA5, 0xE5, 0xF1, 0x71, 0xD8, 0x31, 0x15],\n",
    "    [0x04, 0xC7, 0x23, 0xC3, 0x18, 0x96, 0x05, 0x9A, 0x07, 0x12, 0x80, 0xE2, 0xEB, 0x27, 0xB2, 0x75],\n",
    "    [0x09, 0x83, 0x2C, 0x1A, 0x1B, 0x6E, 0x5A, 0xA0, 0x52, 0x3B, 0xD6, 0xB3, 0x29, 0xE3, 0x2F, 0x84],\n",
    "    [0x53, 0xD1, 0x00, 0xED, 0x20, 0xFC, 0xB1, 0x5B, 0x6A, 0xCB, 0xBE, 0x39, 0x4A, 0x4C, 0x58, 0xCF],\n",
    "    [0xD0, 0xEF, 0xAA, 0xFB, 0x43, 0x4D, 0x33, 0x85, 0x45, 0xF9, 0x02, 0x7F, 0x50, 0x3C, 0x9F, 0xA8],\n",
    "    [0x51, 0xA3, 0x40, 0x8F, 0x92, 0x9D, 0x38, 0xF5, 0xBC, 0xB6, 0xDA, 0x21, 0x10, 0xFF, 0xF3, 0xD2],\n",
    "    [0xCD, 0x0C, 0x13, 0xEC, 0x5F, 0x97, 0x44, 0x17, 0xC4, 0xA7, 0x7E, 0x3D, 0x64, 0x5D, 0x19, 0x73],\n",
    "    [0x60, 0x81, 0x4F, 0xDC, 0x22, 0x2A, 0x90, 0x88, 0x46, 0xEE, 0xB8, 0x14, 0xDE, 0x5E, 0x0B, 0xDB],\n",
    "    [0xE0, 0x32, 0x3A, 0x0A, 0x49, 0x06, 0x24, 0x5C, 0xC2, 0xD3, 0xAC, 0x62, 0x91, 0x95, 0xE4, 0x79],\n",
    "    [0xE7, 0xC8, 0x37, 0x6D, 0x8D, 0xD5, 0x4E, 0xA9, 0x6C, 0x56, 0xF4, 0xEA, 0x65, 0x7A, 0xAE, 0x08],\n",
    "    [0xBA, 0x78, 0x25, 0x2E, 0x1C, 0xA6, 0xB4, 0xC6, 0xE8, 0xDD, 0x74, 0x1F, 0x4B, 0xBD, 0x8B, 0x8A],\n",
    "    [0x70, 0x3E, 0xB5, 0x66, 0x48, 0x03, 0xF6, 0x0E, 0x61, 0x35, 0x57, 0xB9, 0x86, 0xC1, 0x1D, 0x9E],\n",
    "    [0xE1, 0xF8, 0x98, 0x11, 0x69, 0xD9, 0x8E, 0x94, 0x9B, 0x1E, 0x87, 0xE9, 0xCE, 0x55, 0x28, 0xDF],\n",
    "    [0x8C, 0xA1, 0x89, 0x0D, 0xBF, 0xE6, 0x42, 0x68, 0x41, 0x99, 0x2D, 0x0F, 0xB0, 0x54, 0xBB, 0x16]\n",
    "]\n",
    "\n",
    "INV_SBOX = [\n",
    "    [0x52, 0x09, 0x6A, 0xD5, 0x30, 0x36, 0xA5, 0x38, 0xBF, 0x40, 0xA3, 0x9E, 0x81, 0xF3, 0xD7, 0xFB],\n",
    "    [0x7C, 0xE3, 0x39, 0x82, 0x9B, 0x2F, 0xFF, 0x87, 0x34, 0x8E, 0x43, 0x44, 0xC4, 0xDE, 0xE9, 0xCB],\n",
    "    [0x54, 0x7B, 0x94, 0x32, 0xA6, 0xC2, 0x23, 0x3D, 0xEE, 0x4C, 0x95, 0x0B, 0x42, 0xFA, 0xC3, 0x4E],\n",
    "    [0x08, 0x2E, 0xA1, 0x66, 0x28, 0xD9, 0x24, 0xB2, 0x76, 0x5B, 0xA2, 0x49, 0x6D, 0x8B, 0xD1, 0x25],\n",
    "    [0x72, 0xF8, 0xF6, 0x64, 0x86, 0x68, 0x98, 0x16, 0xD4, 0xA4, 0x5C, 0xCC, 0x5D, 0x65, 0xB6, 0x92],\n",
    "    [0x6C, 0x70, 0x48, 0x50, 0xFD, 0xED, 0xB9, 0xDA, 0x5E, 0x15, 0x46, 0x57, 0xA7, 0x8D, 0x9D, 0x84],\n",
    "    [0x90, 0xD8, 0xAB, 0x00, 0x8C, 0xBC, 0xD3, 0x0A, 0xF7, 0xE4, 0x58, 0x05, 0xB8, 0xB3, 0x45, 0x06],\n",
    "    [0xD0, 0x2C, 0x1E, 0x8F, 0xCA, 0x3F, 0x0F, 0x02, 0xC1, 0xAF, 0xBD, 0x03, 0x01, 0x13, 0x8A, 0x6B],\n",
    "    [0x3A, 0x91, 0x11, 0x41, 0x4F, 0x67, 0xDC, 0xEA, 0x97, 0xF2, 0xCF, 0xCE, 0xF0, 0xB4, 0xE6, 0x73],\n",
    "    [0x96, 0xAC, 0x74, 0x22, 0xE7, 0xAD, 0x35, 0x85, 0xE2, 0xF9, 0x37, 0xE8, 0x1C, 0x75, 0xDF, 0x6E],\n",
    "    [0x47, 0xF1, 0x1A, 0x71, 0x1D, 0x29, 0xC5, 0x89, 0x6F, 0xB7, 0x62, 0x0E, 0xAA, 0x18, 0xBE, 0x1B],\n",
    "    [0xFC, 0x56, 0x3E, 0x4B, 0xC6, 0xD2, 0x79, 0x20, 0x9A, 0xDB, 0xC0, 0xFE, 0x78, 0xCD, 0x5A, 0xF4],\n",
    "    [0x1F, 0xDD, 0xA8, 0x33, 0x88, 0x07, 0xC7, 0x31, 0xB1, 0x12, 0x10, 0x59, 0x27, 0x80, 0xEC, 0x5F],\n",
    "    [0x60, 0x51, 0x7F, 0xA9, 0x19, 0xB5, 0x4A, 0x0D, 0x2D, 0xE5, 0x7A, 0x9F, 0x93, 0xC9, 0x9C, 0xEF],\n",
    "    [0xA0, 0xE0, 0x3B, 0x4D, 0xAE, 0x2A, 0xF5, 0xB0, 0xC8, 0xEB, 0xBB, 0x3C, 0x83, 0x53, 0x99, 0x61],\n",
    "    [0x17, 0x2B, 0x04, 0x7E, 0xBA, 0x77, 0xD6, 0x26, 0xE1, 0x69, 0x14, 0x63, 0x55, 0x21, 0x0C, 0x7D],\n",
    "]\n",
    "\n",
    "RCON = [\n",
    "    0x00, 0x01, 0x02, 0x04, 0x08, 0x10, 0x20, 0x40, 0x80, 0x1B, 0x36\n",
    "]"
   ]
  },
  {
   "cell_type": "markdown",
   "id": "d79dd133",
   "metadata": {
    "id": "d79dd133"
   },
   "source": [
    "## Before we start our implementation, we need some helper functions for basic operations.\n",
    "\n",
    "**Below are the functions that convert the 1-D byte array to its 2-D <b>column-major order</b> matrix and convert it back respectively.**\n",
    "\n",
    "![Image](imgs/1.png)"
   ]
  },
  {
   "cell_type": "code",
   "execution_count": 92,
   "id": "7f6241cc",
   "metadata": {},
   "outputs": [],
   "source": [
    "# to do transpose of a matrix\n",
    "def transpose(matrix):\n",
    "    for i in range(4):\n",
    "        for j in range(i + 1, 4):\n",
    "            matrix[i][j], matrix[j][i] = matrix[j][i], matrix[i][j]\n",
    "    return matrix      "
   ]
  },
  {
   "cell_type": "code",
   "execution_count": 93,
   "id": "a523ca09",
   "metadata": {
    "id": "a523ca09"
   },
   "outputs": [],
   "source": [
    "## Input: 1-D byte array\n",
    "## Output: 2-D byte matrix\n",
    "def to_matrix(data):\n",
    "    matrix = []\n",
    "    for i in range(0, len(data),4):\n",
    "        row = data[i:i+4]\n",
    "        matrix.append(row)   \n",
    "    return transpose(matrix)\n",
    "\n",
    "## Input: 2-D byte matrix\n",
    "## Output: 1-D byte array\n",
    "def to_array(matrix):\n",
    "    array = []\n",
    "    matrix = transpose(matrix)\n",
    "    for row in matrix:\n",
    "        for element in row:\n",
    "            array.append(element)\n",
    "    return array"
   ]
  },
  {
   "cell_type": "markdown",
   "id": "w8oxumRb4F82",
   "metadata": {
    "id": "w8oxumRb4F82"
   },
   "source": [
    "## Function for AddRoundKey operation on the 4*4 2-D matrix.\n",
    "\n",
    "![Image](imgs/2.png)"
   ]
  },
  {
   "cell_type": "code",
   "execution_count": 94,
   "id": "58bd92c2",
   "metadata": {},
   "outputs": [],
   "source": [
    "## Input: 2-D byte matrix input block\n",
    "## Input: 2-D byte matrix key\n",
    "## Output: 2-D byte matrix output block \n",
    "def AddRoundKey(matrix_input, matrix_key):\n",
    "    matrix_output = [[0 for _ in range(4)] for _ in range(4)]\n",
    "    for i in range(4):\n",
    "      for j in range(4):\n",
    "        matrix_output[i][j] = ((matrix_input[i][j])^(matrix_key[i][j]))\n",
    "    return matrix_output\n"
   ]
  },
  {
   "cell_type": "code",
   "execution_count": 95,
   "id": "b5340c98",
   "metadata": {},
   "outputs": [],
   "source": [
    "## Checking if its working\n",
    "test_array_in = [0x01, 0x02, 0x03, 0x04, 0x05, 0x06, 0x07, 0x08, 0x09, 0x0A, 0x0B, 0x0C, 0x0D, 0x0E, 0x0F, 0x10]\n",
    "test_array_key = [0x01, 0x02, 0x03, 0x04, 0x05, 0x06, 0x07, 0x08, 0x09, 0x0A, 0x0B, 0x0C, 0x0D, 0x0E, 0x0F, 0x10]\n",
    "assert AddRoundKey(to_matrix(test_array_in), to_matrix(test_array_key))[2][1] == 0x00"
   ]
  },
  {
   "cell_type": "markdown",
   "id": "9b9797f1",
   "metadata": {},
   "source": [
    "## Function for SubBytes and its inverse opertion operated on the 4*4 2-D matrix.\n",
    "![Image](imgs/3.png)"
   ]
  },
  {
   "cell_type": "code",
   "execution_count": 96,
   "id": "9284159d",
   "metadata": {},
   "outputs": [],
   "source": [
    "## Input: 2-D byte matrix\n",
    "## Output: 2-D byte matrix\n",
    "def SubBytes(matrix):\n",
    "  for i in range(4):\n",
    "    for j in range(4):\n",
    "      matrix[i][j] = SBOX[int(matrix[i][j]/16)][matrix[i][j]%16]\n",
    "  return matrix\n",
    "\n",
    "## Input: 2-D byte matrix\n",
    "## Output: 2-D byte matrix\n",
    "def SubBytes_inv(matrix):\n",
    "  for i in range(4):\n",
    "    for j in range(4):\n",
    "      matrix[i][j] = INV_SBOX[int(matrix[i][j]/16)][matrix[i][j]%16]\n",
    "  return matrix"
   ]
  },
  {
   "cell_type": "code",
   "execution_count": 97,
   "id": "67f25d53",
   "metadata": {},
   "outputs": [],
   "source": [
    "## Checking if its working\n",
    "test_array = [0x01, 0x02, 0x03, 0x04, 0x05, 0x06, 0x07, 0x08, 0x09, 0x0A, 0x0B, 0x0C, 0x0D, 0x0E, 0x0F, 0x10]\n",
    "test_matrix = to_matrix(test_array)\n",
    "assert SubBytes_inv(SubBytes(test_matrix)) == test_matrix"
   ]
  },
  {
   "cell_type": "markdown",
   "id": "9b6ce712",
   "metadata": {},
   "source": [
    "## Function for ShiftRows and its inverse opertion operated on the 4*4 2-D matrix.\n",
    "\n",
    "![Image](imgs/4.png)"
   ]
  },
  {
   "cell_type": "code",
   "execution_count": 98,
   "id": "L6A9yvRC4mIx",
   "metadata": {
    "id": "L6A9yvRC4mIx"
   },
   "outputs": [],
   "source": [
    "## Input: 2-D byte matrix\n",
    "## Output: 2-D byte matrix\n",
    "def ShiftRows(matrix):\n",
    "  temp_matrix = [row[:] for row in matrix]\n",
    "  for i in range(4):\n",
    "    for j in range(4):\n",
    "      matrix[i][j] = temp_matrix[i][(i+j)%4]\n",
    "  return matrix\n",
    "\n",
    "## Input: 2-D byte matrix\n",
    "## Output: 2-D byte matrix\n",
    "def ShiftRows_inv(matrix):\n",
    "  temp_matrix = [row[:] for row in matrix]\n",
    "  for i in range(4):\n",
    "    for j in range(4):\n",
    "      matrix[i][j] = temp_matrix[i][(j+4-i)%4]\n",
    "  return matrix"
   ]
  },
  {
   "cell_type": "code",
   "execution_count": 99,
   "id": "6sc1xhH-4mW7",
   "metadata": {
    "id": "6sc1xhH-4mW7"
   },
   "outputs": [],
   "source": [
    "## Checking if its working\n",
    "test_array = [0x01, 0x02, 0x03, 0x04, 0x05, 0x06, 0x07, 0x08, 0x09, 0x0A, 0x0B, 0x0C, 0x0D, 0x0E, 0x0F, 0x10]\n",
    "test_matrix = to_matrix(test_array)\n",
    "assert ShiftRows_inv(ShiftRows(test_matrix)) == test_matrix"
   ]
  },
  {
   "cell_type": "markdown",
   "id": "247be28f",
   "metadata": {},
   "source": [
    "## Function for MixColumns and its inverse opertion operated on the 4*4 2-D matrix.\n",
    "![Image](imgs/5.png)"
   ]
  },
  {
   "cell_type": "code",
   "execution_count": 100,
   "id": "b8e5a3e0",
   "metadata": {},
   "outputs": [],
   "source": [
    "# this function finds position of ones in a four bit binary number\n",
    "def one_positions(hex_number):\n",
    "  binary = bin(hex_number)[2:].zfill(4)  # ensure it's 4-bit\n",
    "  positions = [i for i, bit in enumerate(reversed(binary)) if bit == '1']\n",
    "  return positions\n",
    "\n",
    "# this function multiplies numbers from Mixcolumn matrix and InvMixcolumn matrix to any number in GF(2^8)\n",
    "def multiplier(n,m):\n",
    "  l = one_positions(n)\n",
    "  p = []\n",
    "  p.append(m)\n",
    "  for i in range(3):\n",
    "    if int(m/2**7)==1:\n",
    "      m = (m%2**7 << 1)^0x1b\n",
    "      p.append(m)\n",
    "    else:\n",
    "      m = m%2**7 << 1\n",
    "      p.append(m)\n",
    "  t = 0\n",
    "  for k in l:\n",
    "    t = t^p[k]\n",
    "  return t\n",
    "\n",
    "\n",
    "## Input: 2-D byte matrix\n",
    "## Output: 2-D byte matrix\n",
    "def MixColumns(matrix):\n",
    "  temp_matrix = [row[:] for row in matrix]\n",
    "  n = [[0x02, 0x03, 0x01, 0x01],\n",
    "      [0x01, 0x02, 0x03, 0x01],\n",
    "      [0x01, 0x01, 0x02, 0x03],\n",
    "      [0x03, 0x01, 0x01, 0x02]]\n",
    "  for i in range(4):\n",
    "    for j in range(4):\n",
    "      matrix[i][j] = multiplier(n[i][0],temp_matrix[0][j])^multiplier(n[i][1],temp_matrix[1][j])^multiplier(n[i][2],temp_matrix[2][j])^multiplier(n[i][3],temp_matrix[3][j])\n",
    "  return matrix\n",
    "\n",
    "## Input: 2-D byte matrix\n",
    "## Output: 2-D byte matrix\n",
    "def MixColumns_inv(matrix):\n",
    "  temp_matrix = [row[:] for row in matrix]\n",
    "  n = [[0x0E, 0x0B, 0x0D, 0x09],\n",
    "       [0x09, 0x0E, 0x0B, 0x0D],\n",
    "       [0x0D, 0x09, 0x0E, 0x0B],\n",
    "       [0x0B, 0x0D, 0x09, 0x0E]]\n",
    "  for i in range(4):\n",
    "    for j in range(4):\n",
    "      matrix[i][j] = multiplier(n[i][0],temp_matrix[0][j])^multiplier(n[i][1],temp_matrix[1][j])^multiplier(n[i][2],temp_matrix[2][j])^multiplier(n[i][3],temp_matrix[3][j])\n",
    "  return matrix\n"
   ]
  },
  {
   "cell_type": "code",
   "execution_count": 101,
   "id": "a6a39ed7",
   "metadata": {},
   "outputs": [],
   "source": [
    "## Checking if its working\n",
    "test_array = [0x01, 0x02, 0x03, 0x04, 0x05, 0x06, 0x07, 0x08, 0x09, 0x0A, 0x0B, 0x0C, 0x0D, 0x0E, 0x0F, 0x10]\n",
    "test_matrix = to_matrix(test_array)\n",
    "assert MixColumns_inv(MixColumns(test_matrix)) == test_matrix"
   ]
  },
  {
   "cell_type": "markdown",
   "id": "e11205f8",
   "metadata": {
    "id": "e11205f8"
   },
   "source": [
    "--------------------------------------"
   ]
  },
  {
   "cell_type": "markdown",
   "id": "520328c3",
   "metadata": {
    "id": "520328c3"
   },
   "source": [
    "## AES-128 Key Scheduling\n",
    "\n",
    "Tranditional AES applies the Rijndael key schedule to expand the master key to n round keys. Now we are going to implement it.\n",
    "We use an 1-D byte array to represent the master key, and a 2-D byte array list to represent the entire expanded key.\n",
    "\n",
    "![Image](imgs/6.png)"
   ]
  },
  {
   "cell_type": "code",
   "execution_count": 102,
   "id": "3e2bbecd",
   "metadata": {},
   "outputs": [],
   "source": [
    "# g function used in next round key calculation\n",
    "def g_func(w, round):\n",
    "  w_temp = w.copy()\n",
    "  for i in range(4):\n",
    "    w[i] = w_temp[(i+1)%4]\n",
    "  for j in range(4):\n",
    "    w[j] = SBOX[int(w[j]/16)][w[j]%16]\n",
    "  r_con = []\n",
    "  r_con.append(RCON[round])\n",
    "  r_con.append(0)\n",
    "  r_con.append(0)\n",
    "  r_con.append(0)\n",
    "  w = [a^b for a, b in zip(w, r_con)]\n",
    "  return w"
   ]
  },
  {
   "cell_type": "code",
   "execution_count": 103,
   "id": "66ef174d",
   "metadata": {
    "id": "66ef174d"
   },
   "outputs": [],
   "source": [
    "## Input: 1-D byte array for the last round key\n",
    "## Input: int for the round of computed round key\n",
    "##        (say we are computing rk1, then we invoeke this function as compute_next_rk(rk0, 1))\n",
    "## Output: 1-D byte array for the next round key\n",
    "\n",
    "def compute_next_rk(current_rk, computed_round):\n",
    "  if computed_round == 0:\n",
    "    return current_rk\n",
    "  else:\n",
    "    rk_matrix = transpose(to_matrix(current_rk))\n",
    "    temp_matrix = [row[:] for row in rk_matrix]\n",
    "    rk_matrix[0] = [a^b for a, b in zip(rk_matrix[0], g_func(rk_matrix[3],computed_round))]\n",
    "    for i in range(1,4,1):\n",
    "      rk_matrix[i] = [x^y for x, y in zip(rk_matrix[i-1], temp_matrix[i])]\n",
    "  next_rk = to_array(transpose(rk_matrix))\n",
    "  return next_rk\n",
    "\n"
   ]
  },
  {
   "cell_type": "code",
   "execution_count": 104,
   "id": "cf15a29e",
   "metadata": {
    "id": "cf15a29e"
   },
   "outputs": [],
   "source": [
    "## Input: 1-D byte array for the master key\n",
    "## Output: 2-D byte array list for the entire expanded key\n",
    "def AES128_key_expansion(master_key):\n",
    "  expanded_key = [None] * 11\n",
    "  expanded_key[0] = master_key\n",
    "  for i in range(1,11,1):\n",
    "    expanded_key[i] = compute_next_rk(expanded_key[i-1], i)\n",
    "  return expanded_key\n"
   ]
  },
  {
   "cell_type": "code",
   "execution_count": 105,
   "id": "8fbc8f0c",
   "metadata": {},
   "outputs": [],
   "source": [
    "## Checking if its working\n",
    "test_master_key = [0x01, 0x02, 0x03, 0x04, 0x05, 0x06, 0x07, 0x08, 0x09, 0x0A, 0x0B, 0x0C, 0x0D, 0x0E, 0x0F, 0x10]\n",
    "expanded_key = AES128_key_expansion(test_master_key)\n",
    "for round_key in expanded_key:\n",
    "    assert len(round_key) == 16"
   ]
  },
  {
   "cell_type": "markdown",
   "id": "f16518bb",
   "metadata": {},
   "source": [
    "---------------------------------------------------------"
   ]
  },
  {
   "cell_type": "markdown",
   "id": "3d6834f9",
   "metadata": {},
   "source": [
    "## AES-128 Encryption and Decryption for one block"
   ]
  },
  {
   "cell_type": "code",
   "execution_count": 106,
   "id": "cf0ca933",
   "metadata": {},
   "outputs": [],
   "source": [
    "## Input: 1-D byte array for the master key\n",
    "## Input: 1-D byte array for one block of plaintext\n",
    "## Output: 1-D byte array for the ciphertext\n",
    "def AES128_encrypt(master_key, plaintext):\n",
    "  expanded_key = AES128_key_expansion(master_key)\n",
    "  state = to_matrix(plaintext)\n",
    "  state = AddRoundKey(state, to_matrix(expanded_key[0]))\n",
    "  for j in range(1,10,1):\n",
    "    state = SubBytes(state)\n",
    "    state = ShiftRows(state)\n",
    "    state = MixColumns(state)\n",
    "    state = AddRoundKey(state, to_matrix(expanded_key[j]))\n",
    "  state = SubBytes(state)\n",
    "  state = ShiftRows(state)\n",
    "  state = AddRoundKey(state, to_matrix(expanded_key[10]))\n",
    "  ciphertext = to_array(state)\n",
    "  return ciphertext\n"
   ]
  },
  {
   "cell_type": "code",
   "execution_count": 107,
   "id": "1071dcf7",
   "metadata": {},
   "outputs": [],
   "source": [
    "## Input: 1-D byte array for the master key\n",
    "## Input: 1-D byte array for one block of ciphertext\n",
    "## Output: 1-D byte array for the plaintext\n",
    "def AES128_decrypt(master_key, ciphertext):\n",
    "  expanded_key = AES128_key_expansion(master_key)\n",
    "  state = to_matrix(ciphertext)\n",
    "  state = AddRoundKey(state, to_matrix(expanded_key[10]))\n",
    "  for j in range(9,0,-1):\n",
    "    state = ShiftRows_inv(state)\n",
    "    state = SubBytes_inv(state)\n",
    "    state = AddRoundKey(state, to_matrix(expanded_key[j]))\n",
    "    state = MixColumns_inv(state)\n",
    "  state = ShiftRows_inv(state)\n",
    "  state = SubBytes_inv(state)\n",
    "  state  = AddRoundKey(state, to_matrix(expanded_key[0]))\n",
    "  plaintext = to_array(state)\n",
    "  return plaintext"
   ]
  },
  {
   "cell_type": "markdown",
   "id": "87950d40",
   "metadata": {},
   "source": [
    "---------------------------------------------------------"
   ]
  },
  {
   "cell_type": "markdown",
   "id": "09de1ee9",
   "metadata": {},
   "source": [
    "## AES-128 with Block-Cipher Mode\n",
    "To encrypt/decrypt long messages, AES should be integrated with block-cipher modes such as CBC, CTR. Futhermore, the length of real-world plaintexts does not always be the exact multiplies of AES block size. As a result, we need pad and unpad our plaintext before encryption/after decryption. \n",
    "\n",
    "For simplicity, we consider the minimum unit for a plaintext element is <b>byte</b> in this assignment. In other words, we assume the plaintext is always a sequence of bytes, but not 19 bits/22 bits etc.\n",
    "\n",
    "Following our assumption, we pad/unpad the plaintext at <b>byte level</b> for our AES-CBC implementation. It follows:\n",
    "<li> pad: If the last block matches the AES-128 block size already, do nothing. Else, pad the last block with '0x00' until it fullfill the block.</li>\n",
    "<li> unpad: Start from the last byte, remove all continuous '0x00' until a none-zero byte comes.</li>"
   ]
  },
  {
   "cell_type": "code",
   "execution_count": 108,
   "id": "6ddb67d4",
   "metadata": {},
   "outputs": [],
   "source": [
    "## Input: 1-D byte array for the plaintext\n",
    "## Output: 1-D byte array for the padded plaintext\n",
    "def pad(plaintext):\n",
    "    pad_elm = 0x00\n",
    "    if len(plaintext) % 16 == 0:\n",
    "        pad_len = 0\n",
    "    else:\n",
    "        pad_len = 16 - len(plaintext) % 16\n",
    "    padded_plaintext = plaintext + [pad_elm] * pad_len\n",
    "    return padded_plaintext\n",
    "\n",
    "## Input: 1-D byte array for the padded plaintext\n",
    "## Output: 1-D byte array for the unpadded plaintext\n",
    "def unpad(padded_plaintext):\n",
    "    pad_elm = 0x00\n",
    "    for i in range(len(padded_plaintext)-1, -1, -1):\n",
    "        if padded_plaintext[i] != pad_elm:\n",
    "            break\n",
    "    unpadded_plaintext = padded_plaintext[:i+1]\n",
    "    return unpadded_plaintext"
   ]
  },
  {
   "cell_type": "code",
   "execution_count": 109,
   "id": "8eb3dcc0",
   "metadata": {},
   "outputs": [],
   "source": [
    "# this function creates blocks of the plaintext and ciphertext to feed into encryption and decryption function\n",
    "def to_blocks(state):\n",
    "    matrix = []\n",
    "    for i in range(0,int(len(state)),16):\n",
    "        row = state[i:i+16]\n",
    "        matrix.append(row)\n",
    "    return matrix\n",
    "\n",
    "# this flattens a row major matrix\n",
    "def to_flatten(matrix):\n",
    "    array = []\n",
    "    for row in matrix:\n",
    "        for element in row:\n",
    "            array.append(element)\n",
    "    return array\n",
    "\n",
    "\n",
    "\n",
    "## Input: 1-D byte array for the IV (Assume the IV is always 16 bytes)\n",
    "## Input: 1-D byte array for the master key\n",
    "## Input: 1-D byte array for the plaintext\n",
    "## Output: 1-D byte array for the ciphertext\n",
    "def AES128_CBC_encrypt(iv, master_key, plaintext):\n",
    "    ciphertext = []\n",
    "    padded_plaintext = pad(plaintext)\n",
    "    msg_block = to_blocks(padded_plaintext)\n",
    "    state1 = to_matrix(msg_block[0])\n",
    "    state1 = AddRoundKey(state1, to_matrix(iv))\n",
    "    state1 = to_array(state1)\n",
    "    ciphertext_i = AES128_encrypt(master_key, state1)\n",
    "    ciphertext.append(ciphertext_i)\n",
    "    for i in range(1, int(len(padded_plaintext)/16), 1):\n",
    "        state = to_matrix(msg_block[i])\n",
    "        state = AddRoundKey(state, to_matrix(ciphertext_i))\n",
    "        state = to_array(state)\n",
    "        ciphertext_i = AES128_encrypt(master_key, state)\n",
    "        ciphertext.append(ciphertext_i)\n",
    "    return to_flatten(ciphertext)\n",
    "\n",
    "\n",
    "## Input: 1-D byte array for the IV (Assume the IV is always 16 bytes)\n",
    "## Input: 1-D byte array for the master key\n",
    "## Input: 1-D byte array for the ciphertext\n",
    "## Output: 1-D byte array for the plaintext\n",
    "def AES128_CBC_decrypt(iv, master_key, ciphertext):\n",
    "    plaintext = []\n",
    "    cipher_block = to_blocks(ciphertext)\n",
    "    state1 = AES128_decrypt(master_key, cipher_block[0])\n",
    "    state1 = to_matrix(state1)\n",
    "    plaintext_i = AddRoundKey(state1, to_matrix(iv))\n",
    "    plaintext.append(to_array(plaintext_i))\n",
    "    for i in range(1,int(len(ciphertext)/16), 1):\n",
    "        state = AES128_decrypt(master_key, cipher_block[i])\n",
    "        state = to_matrix(state)\n",
    "        plaintext_i = AddRoundKey(state, to_matrix(cipher_block[i-1]))\n",
    "        plaintext.append(to_array(plaintext_i))\n",
    "    unpadded_plaintext = unpad(to_flatten(plaintext))\n",
    "    return unpadded_plaintext"
   ]
  },
  {
   "cell_type": "markdown",
   "id": "c6cd51a5",
   "metadata": {},
   "source": [
    "## Testing Encryption function for given  Initial Vector(IV), Master Key and plaintext"
   ]
  },
  {
   "cell_type": "code",
   "execution_count": 110,
   "id": "6224c7a6",
   "metadata": {},
   "outputs": [],
   "source": [
    "IV = [0x51, 0x1F, 0x3E, 0x4C, 0x05, 0xF4, 0xA7, 0xD8, 0xB9, 0x5A, 0x8B, 0x2C, 0x3D, 0x0E, 0x23, 0x90]\n",
    "master_key = [0x01, 0x02, 0x03, 0x04, 0x05, 0x06, 0x07, 0x08, 0x09, 0x0A, 0x0B, 0x0C, 0x0D, 0x0E, 0x0F, 0x10]\n",
    "plaintext = \"Encryption and decryption are working perfectly.\""
   ]
  },
  {
   "cell_type": "markdown",
   "id": "c94e5cac",
   "metadata": {},
   "source": [
    "**Below are two helper functions to convert text to numbers and vice-versa**"
   ]
  },
  {
   "cell_type": "code",
   "execution_count": 111,
   "id": "c3522bc4",
   "metadata": {},
   "outputs": [],
   "source": [
    "# converts plaintext to ASCII\n",
    "def text_to_hex(plaintext):\n",
    "    hex_arr = []\n",
    "    for char in plaintext:\n",
    "        hex_arr.append(ord(char))\n",
    "    return hex_arr\n",
    "# converts ASCII to plaintext \n",
    "def hex_to_text(hex):\n",
    "    text = []\n",
    "    for h in hex:\n",
    "        text.append(chr(h))\n",
    "    return ''.join(text)"
   ]
  },
  {
   "cell_type": "code",
   "execution_count": 112,
   "id": "2724d193",
   "metadata": {},
   "outputs": [
    {
     "name": "stdout",
     "output_type": "stream",
     "text": [
      "[136, 189, 72, 145, 193, 73, 59, 132, 12, 63, 32, 175, 8, 32, 51, 197, 242, 255, 191, 198, 52, 130, 244, 102, 113, 33, 44, 189, 126, 53, 100, 17, 48, 200, 42, 67, 25, 102, 163, 39, 222, 83, 218, 87, 218, 45, 25, 93]\n"
     ]
    }
   ],
   "source": [
    "encrypted_message = AES128_CBC_encrypt(IV, master_key, text_to_hex(plaintext))\n",
    "print(encrypted_message)"
   ]
  },
  {
   "cell_type": "code",
   "execution_count": 113,
   "id": "836d833c",
   "metadata": {},
   "outputs": [
    {
     "name": "stdout",
     "output_type": "stream",
     "text": [
      "Encryption and decryption are working perfectly.\n"
     ]
    }
   ],
   "source": [
    "decrypted_message = AES128_CBC_decrypt(IV, master_key, encrypted_message)\n",
    "message = hex_to_text(decrypted_message)\n",
    "print(message)"
   ]
  },
  {
   "cell_type": "markdown",
   "id": "13e44a37",
   "metadata": {},
   "source": [
    "---------------------------------------------------------"
   ]
  }
 ],
 "metadata": {
  "colab": {
   "provenance": []
  },
  "kernelspec": {
   "display_name": "crypenv310",
   "language": "python",
   "name": "crypenv310"
  },
  "language_info": {
   "codemirror_mode": {
    "name": "ipython",
    "version": 3
   },
   "file_extension": ".py",
   "mimetype": "text/x-python",
   "name": "python",
   "nbconvert_exporter": "python",
   "pygments_lexer": "ipython3",
   "version": "3.10.11"
  }
 },
 "nbformat": 4,
 "nbformat_minor": 5
}
